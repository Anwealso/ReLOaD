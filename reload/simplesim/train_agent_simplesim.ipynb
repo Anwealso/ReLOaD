{
 "cells": [
  {
   "cell_type": "markdown",
   "metadata": {
    "id": "AoxOjIlOImwx"
   },
   "source": [
    "# SimpleSim Non-Holonomic Navigation Challenge\n",
    "\n",
    "This notebook runs a comparison of learning algorithms, by training PPO and DQN models.\n",
    "\n",
    "## Install Dependencies and Stable Baselines3 Using Pip"
   ]
  },
  {
   "cell_type": "code",
   "execution_count": 1,
   "metadata": {
    "colab": {
     "base_uri": "https://localhost:8080/"
    },
    "id": "Sp8rSS4DIhEV",
    "outputId": "5c0b7f03-662c-41c5-b3f9-f470e27754e1"
   },
   "outputs": [],
   "source": [
    "# !pip install \"stable-baselines3[extra]>=2.0.0a4\""
   ]
  },
  {
   "cell_type": "markdown",
   "metadata": {
    "id": "v0wXGn1ylGFR"
   },
   "source": [
    "### Setup Tensorboard Logging"
   ]
  },
  {
   "cell_type": "code",
   "execution_count": 2,
   "metadata": {
    "id": "X2BNcPi7lID_"
   },
   "outputs": [],
   "source": [
    "# # Clear any logs from previous runs\n",
    "# !rm -rf ./logs/\n",
    "\n",
    "# Load the TensorBoard notebook extension\n",
    "%load_ext tensorboard"
   ]
  },
  {
   "cell_type": "markdown",
   "metadata": {
    "id": "RqxatIwPOXe_"
   },
   "source": [
    "##  Custom Gym Envs\n",
    "\n",
    "Below are a couple of simpler lower order gridworld type gym environments that can be used as testing and debugging examples ,as well as our main SimpleSIm non-holonomic driving environment (which is imported from the seperate source files env.py and env_gym.py)"
   ]
  },
  {
   "cell_type": "code",
   "execution_count": 3,
   "metadata": {
    "id": "5SNFv8TF58R0"
   },
   "outputs": [],
   "source": [
    "import numpy as np\n",
    "import gymnasium as gym\n",
    "from gymnasium import spaces\n",
    "\n",
    "# Import our main environment\n",
    "from env_gym import SimpleSimGym"
   ]
  },
  {
   "cell_type": "markdown",
   "metadata": {
    "id": "Zy5mlho1-Ine"
   },
   "source": [
    "### Validate the environment\n",
    "\n",
    "Stable Baselines3 provides a [helper](https://stable-baselines3.readthedocs.io/en/master/common/env_checker.html) to check that your environment follows the Gym interface. It also optionally checks that the environment is compatible with Stable-Baselines (and emits warning if necessary)."
   ]
  },
  {
   "cell_type": "code",
   "execution_count": 4,
   "metadata": {
    "colab": {
     "base_uri": "https://localhost:8080/"
    },
    "id": "kH-Hxz7H53hl",
    "outputId": "92fb1484-c081-46bb-a0a3-f67e4f491d93"
   },
   "outputs": [
    {
     "name": "stdout",
     "output_type": "stream",
     "text": [
      "Environment seed: 283\n"
     ]
    }
   ],
   "source": [
    "from stable_baselines3.common.env_checker import check_env\n",
    "\n",
    "env = SimpleSimGym(max_budget=500, max_targets=3, num_classes=10, player_fov=60)\n",
    "\n",
    "# If the environment don't follow the interface, an error will be thrown\n",
    "check_env(env, warn=True)"
   ]
  },
  {
   "cell_type": "markdown",
   "metadata": {
    "id": "adsKMvDkRUn0"
   },
   "source": [
    "## Import Auto Saving of Best Model Callback"
   ]
  },
  {
   "cell_type": "code",
   "execution_count": 5,
   "metadata": {
    "id": "nzMHj7r3h78m"
   },
   "outputs": [],
   "source": [
    "from utils import SaveOnBestTrainingRewardCallback"
   ]
  },
  {
   "cell_type": "markdown",
   "metadata": {
    "id": "Pv1e1qJETfHU"
   },
   "source": [
    "## Train The Model"
   ]
  },
  {
   "cell_type": "code",
   "execution_count": 6,
   "metadata": {
    "id": "5fbrQWC8G103"
   },
   "outputs": [],
   "source": [
    "from stable_baselines3 import PPO, SAC, DQN\n",
    "from stable_baselines3.common.env_util import make_vec_env\n",
    "import os\n",
    "\n",
    "# Environment Parameters\n",
    "MAX_BUDGET = 400\n",
    "MAX_TARGETS = 5\n",
    "NUM_CLASSES = 10\n",
    "PLAYER_FOV = 30\n",
    "RENDER_MODE = \"rgb_array\"\n",
    "ACTION_FORMAT = \"continuous\"\n",
    "\n",
    "config = {\n",
    "    \"policy\": 'MlpPolicy',\n",
    "    \"total_timesteps\": 4_000_000,\n",
    "    \"logdir\": \"logs/\",\n",
    "    \"savedir\": \"saved_models/\",\n",
    "}\n",
    "\n",
    "# Create log dir\n",
    "os.makedirs(config[\"logdir\"], exist_ok=True)\n",
    "\n",
    "# Create save dir\n",
    "os.makedirs(config[\"savedir\"], exist_ok=True)"
   ]
  },
  {
   "cell_type": "markdown",
   "metadata": {
    "id": "Gmb5J448ly20"
   },
   "source": [
    "# Show Tensorboard Logs\n",
    "Visualise the live logs on tensorboard as we train"
   ]
  },
  {
   "cell_type": "code",
   "execution_count": 7,
   "metadata": {},
   "outputs": [
    {
     "data": {
      "text/plain": [
       "ERROR: Failed to launch TensorBoard (exited with 1).\n",
       "Contents of stderr:\n",
       "TensorFlow installation not found - running with reduced feature set.\n",
       "Address already in use\n",
       "Port 6007 is in use by another program. Either identify and stop that program, or start the server with a different port."
      ]
     },
     "metadata": {},
     "output_type": "display_data"
    }
   ],
   "source": [
    "# Open Tensorboard Logging\n",
    "%tensorboard --logdir logs/ --reload_interval 30 --port=6008"
   ]
  },
  {
   "cell_type": "markdown",
   "metadata": {
    "id": "xcNl-vXgmHgo"
   },
   "source": [
    "### Train PPO"
   ]
  },
  {
   "cell_type": "code",
   "execution_count": 8,
   "metadata": {
    "colab": {
     "base_uri": "https://localhost:8080/",
     "height": 89,
     "referenced_widgets": [
      "e14c6d372ee347f7be51d1027de08037",
      "af9946047ab64b4d9d91550f4f271c32"
     ]
    },
    "id": "kBTmEWCf8jlF",
    "outputId": "51004445-a01e-4697-96f2-9a2c94d0e934"
   },
   "outputs": [
    {
     "name": "stdout",
     "output_type": "stream",
     "text": [
      "Environment seed: 800\n"
     ]
    },
    {
     "data": {
      "application/vnd.jupyter.widget-view+json": {
       "model_id": "796e6113aeae49e1b138cda144c36594",
       "version_major": 2,
       "version_minor": 0
      },
      "text/plain": [
       "Output()"
      ]
     },
     "metadata": {},
     "output_type": "display_data"
    },
    {
     "name": "stdout",
     "output_type": "stream",
     "text": [
      "^ Tranch 1/10\n"
     ]
    },
    {
     "data": {
      "text/html": [
       "<pre style=\"white-space:pre;overflow-x:auto;line-height:normal;font-family:Menlo,'DejaVu Sans Mono',consolas,'Courier New',monospace\">Saving new best model at 912 timesteps (saved to saved_models/best_ppo) (reward=210.77824683333333)\n",
       "</pre>\n"
      ],
      "text/plain": [
       "Saving new best model at 912 timesteps (saved to saved_models/best_ppo) (reward=210.77824683333333)\n"
      ]
     },
     "metadata": {},
     "output_type": "display_data"
    },
    {
     "data": {
      "text/html": [
       "<pre style=\"white-space:pre;overflow-x:auto;line-height:normal;font-family:Menlo,'DejaVu Sans Mono',consolas,'Courier New',monospace\">Saving new best model at 1796 timesteps (saved to saved_models/best_ppo) (reward=253.9033665833334)\n",
       "</pre>\n"
      ],
      "text/plain": [
       "Saving new best model at 1796 timesteps (saved to saved_models/best_ppo) (reward=253.9033665833334)\n"
      ]
     },
     "metadata": {},
     "output_type": "display_data"
    },
    {
     "data": {
      "text/html": [
       "<pre style=\"white-space:pre;overflow-x:auto;line-height:normal;font-family:Menlo,'DejaVu Sans Mono',consolas,'Courier New',monospace\">Saving new best model at 3972 timesteps (saved to saved_models/best_ppo) (reward=268.9761773636364)\n",
       "</pre>\n"
      ],
      "text/plain": [
       "Saving new best model at 3972 timesteps (saved to saved_models/best_ppo) (reward=268.9761773636364)\n"
      ]
     },
     "metadata": {},
     "output_type": "display_data"
    },
    {
     "data": {
      "text/html": [
       "<pre style=\"white-space:pre;overflow-x:auto;line-height:normal;font-family:Menlo,'DejaVu Sans Mono',consolas,'Courier New',monospace\">Saving new best model at 6934 timesteps (saved to saved_models/best_ppo) (reward=274.8444798461539)\n",
       "</pre>\n"
      ],
      "text/plain": [
       "Saving new best model at 6934 timesteps (saved to saved_models/best_ppo) (reward=274.8444798461539)\n"
      ]
     },
     "metadata": {},
     "output_type": "display_data"
    },
    {
     "data": {
      "text/html": [
       "<pre style=\"white-space:pre;overflow-x:auto;line-height:normal;font-family:Menlo,'DejaVu Sans Mono',consolas,'Courier New',monospace\">Saving new best model at 9746 timesteps (saved to saved_models/best_ppo) (reward=281.8151685925926)\n",
       "</pre>\n"
      ],
      "text/plain": [
       "Saving new best model at 9746 timesteps (saved to saved_models/best_ppo) (reward=281.8151685925926)\n"
      ]
     },
     "metadata": {},
     "output_type": "display_data"
    },
    {
     "data": {
      "text/html": [
       "<pre style=\"white-space:pre;overflow-x:auto;line-height:normal;font-family:Menlo,'DejaVu Sans Mono',consolas,'Courier New',monospace\">Saving new best model at 10725 timesteps (saved to saved_models/best_ppo) (reward=290.7216613559322)\n",
       "</pre>\n"
      ],
      "text/plain": [
       "Saving new best model at 10725 timesteps (saved to saved_models/best_ppo) (reward=290.7216613559322)\n"
      ]
     },
     "metadata": {},
     "output_type": "display_data"
    },
    {
     "data": {
      "text/html": [
       "<pre style=\"white-space:pre;overflow-x:auto;line-height:normal;font-family:Menlo,'DejaVu Sans Mono',consolas,'Courier New',monospace\">Saving new best model at 11860 timesteps (saved to saved_models/best_ppo) (reward=310.36392968253966)\n",
       "</pre>\n"
      ],
      "text/plain": [
       "Saving new best model at 11860 timesteps (saved to saved_models/best_ppo) (reward=310.36392968253966)\n"
      ]
     },
     "metadata": {},
     "output_type": "display_data"
    },
    {
     "data": {
      "text/html": [
       "<pre style=\"white-space:pre;overflow-x:auto;line-height:normal;font-family:Menlo,'DejaVu Sans Mono',consolas,'Courier New',monospace\">Saving new best model at 18709 timesteps (saved to saved_models/best_ppo) (reward=310.84309615999996)\n",
       "</pre>\n"
      ],
      "text/plain": [
       "Saving new best model at 18709 timesteps (saved to saved_models/best_ppo) (reward=310.84309615999996)\n"
      ]
     },
     "metadata": {},
     "output_type": "display_data"
    },
    {
     "data": {
      "text/html": [
       "<pre style=\"white-space:pre;overflow-x:auto;line-height:normal;font-family:Menlo,'DejaVu Sans Mono',consolas,'Courier New',monospace\">Saving new best model at 19974 timesteps (saved to saved_models/best_ppo) (reward=320.70843833)\n",
       "</pre>\n"
      ],
      "text/plain": [
       "Saving new best model at 19974 timesteps (saved to saved_models/best_ppo) (reward=320.70843833)\n"
      ]
     },
     "metadata": {},
     "output_type": "display_data"
    },
    {
     "data": {
      "text/html": [
       "<pre style=\"white-space:pre;overflow-x:auto;line-height:normal;font-family:Menlo,'DejaVu Sans Mono',consolas,'Courier New',monospace\">Saving new best model at 20753 timesteps (saved to saved_models/best_ppo) (reward=324.10442667)\n",
       "</pre>\n"
      ],
      "text/plain": [
       "Saving new best model at 20753 timesteps (saved to saved_models/best_ppo) (reward=324.10442667)\n"
      ]
     },
     "metadata": {},
     "output_type": "display_data"
    },
    {
     "data": {
      "text/html": [
       "<pre style=\"white-space:pre;overflow-x:auto;line-height:normal;font-family:Menlo,'DejaVu Sans Mono',consolas,'Courier New',monospace\">Saving new best model at 21758 timesteps (saved to saved_models/best_ppo) (reward=326.99068971)\n",
       "</pre>\n"
      ],
      "text/plain": [
       "Saving new best model at 21758 timesteps (saved to saved_models/best_ppo) (reward=326.99068971)\n"
      ]
     },
     "metadata": {},
     "output_type": "display_data"
    },
    {
     "data": {
      "text/html": [
       "<pre style=\"white-space:pre;overflow-x:auto;line-height:normal;font-family:Menlo,'DejaVu Sans Mono',consolas,'Courier New',monospace\">Saving new best model at 23982 timesteps (saved to saved_models/best_ppo) (reward=339.34359183)\n",
       "</pre>\n"
      ],
      "text/plain": [
       "Saving new best model at 23982 timesteps (saved to saved_models/best_ppo) (reward=339.34359183)\n"
      ]
     },
     "metadata": {},
     "output_type": "display_data"
    },
    {
     "data": {
      "text/html": [
       "<pre style=\"white-space:pre;overflow-x:auto;line-height:normal;font-family:Menlo,'DejaVu Sans Mono',consolas,'Courier New',monospace\">Saving new best model at 24822 timesteps (saved to saved_models/best_ppo) (reward=341.85273566)\n",
       "</pre>\n"
      ],
      "text/plain": [
       "Saving new best model at 24822 timesteps (saved to saved_models/best_ppo) (reward=341.85273566)\n"
      ]
     },
     "metadata": {},
     "output_type": "display_data"
    },
    {
     "data": {
      "text/html": [
       "<pre style=\"white-space:pre;overflow-x:auto;line-height:normal;font-family:Menlo,'DejaVu Sans Mono',consolas,'Courier New',monospace\">Saving new best model at 25978 timesteps (saved to saved_models/best_ppo) (reward=355.86584499)\n",
       "</pre>\n"
      ],
      "text/plain": [
       "Saving new best model at 25978 timesteps (saved to saved_models/best_ppo) (reward=355.86584499)\n"
      ]
     },
     "metadata": {},
     "output_type": "display_data"
    },
    {
     "data": {
      "text/html": [
       "<pre style=\"white-space:pre;overflow-x:auto;line-height:normal;font-family:Menlo,'DejaVu Sans Mono',consolas,'Courier New',monospace\">Saving new best model at 26673 timesteps (saved to saved_models/best_ppo) (reward=356.2247039)\n",
       "</pre>\n"
      ],
      "text/plain": [
       "Saving new best model at 26673 timesteps (saved to saved_models/best_ppo) (reward=356.2247039)\n"
      ]
     },
     "metadata": {},
     "output_type": "display_data"
    },
    {
     "data": {
      "text/html": [
       "<pre style=\"white-space:pre;overflow-x:auto;line-height:normal;font-family:Menlo,'DejaVu Sans Mono',consolas,'Courier New',monospace\">Saving new best model at 27999 timesteps (saved to saved_models/best_ppo) (reward=357.10089094999995)\n",
       "</pre>\n"
      ],
      "text/plain": [
       "Saving new best model at 27999 timesteps (saved to saved_models/best_ppo) (reward=357.10089094999995)\n"
      ]
     },
     "metadata": {},
     "output_type": "display_data"
    },
    {
     "data": {
      "text/html": [
       "<pre style=\"white-space:pre;overflow-x:auto;line-height:normal;font-family:Menlo,'DejaVu Sans Mono',consolas,'Courier New',monospace\">Saving new best model at 28912 timesteps (saved to saved_models/best_ppo) (reward=365.05199417999995)\n",
       "</pre>\n"
      ],
      "text/plain": [
       "Saving new best model at 28912 timesteps (saved to saved_models/best_ppo) (reward=365.05199417999995)\n"
      ]
     },
     "metadata": {},
     "output_type": "display_data"
    },
    {
     "data": {
      "text/html": [
       "<pre style=\"white-space:pre;overflow-x:auto;line-height:normal;font-family:Menlo,'DejaVu Sans Mono',consolas,'Courier New',monospace\">Saving new best model at 53879 timesteps (saved to saved_models/best_ppo) (reward=366.93847429)\n",
       "</pre>\n"
      ],
      "text/plain": [
       "Saving new best model at 53879 timesteps (saved to saved_models/best_ppo) (reward=366.93847429)\n"
      ]
     },
     "metadata": {},
     "output_type": "display_data"
    },
    {
     "data": {
      "text/html": [
       "<pre style=\"white-space:pre;overflow-x:auto;line-height:normal;font-family:Menlo,'DejaVu Sans Mono',consolas,'Courier New',monospace\">Saving new best model at 54959 timesteps (saved to saved_models/best_ppo) (reward=372.7620234600001)\n",
       "</pre>\n"
      ],
      "text/plain": [
       "Saving new best model at 54959 timesteps (saved to saved_models/best_ppo) (reward=372.7620234600001)\n"
      ]
     },
     "metadata": {},
     "output_type": "display_data"
    },
    {
     "data": {
      "text/html": [
       "<pre style=\"white-space:pre;overflow-x:auto;line-height:normal;font-family:Menlo,'DejaVu Sans Mono',consolas,'Courier New',monospace\">Saving new best model at 56928 timesteps (saved to saved_models/best_ppo) (reward=376.42250779)\n",
       "</pre>\n"
      ],
      "text/plain": [
       "Saving new best model at 56928 timesteps (saved to saved_models/best_ppo) (reward=376.42250779)\n"
      ]
     },
     "metadata": {},
     "output_type": "display_data"
    },
    {
     "data": {
      "text/html": [
       "<pre style=\"white-space:pre;overflow-x:auto;line-height:normal;font-family:Menlo,'DejaVu Sans Mono',consolas,'Courier New',monospace\">Saving new best model at 68995 timesteps (saved to saved_models/best_ppo) (reward=380.59697016999996)\n",
       "</pre>\n"
      ],
      "text/plain": [
       "Saving new best model at 68995 timesteps (saved to saved_models/best_ppo) (reward=380.59697016999996)\n"
      ]
     },
     "metadata": {},
     "output_type": "display_data"
    },
    {
     "data": {
      "text/html": [
       "<pre style=\"white-space:pre;overflow-x:auto;line-height:normal;font-family:Menlo,'DejaVu Sans Mono',consolas,'Courier New',monospace\">Saving new best model at 77865 timesteps (saved to saved_models/best_ppo) (reward=384.1545506800001)\n",
       "</pre>\n"
      ],
      "text/plain": [
       "Saving new best model at 77865 timesteps (saved to saved_models/best_ppo) (reward=384.1545506800001)\n"
      ]
     },
     "metadata": {},
     "output_type": "display_data"
    },
    {
     "data": {
      "text/html": [
       "<pre style=\"white-space:pre;overflow-x:auto;line-height:normal;font-family:Menlo,'DejaVu Sans Mono',consolas,'Courier New',monospace\">Saving new best model at 84729 timesteps (saved to saved_models/best_ppo) (reward=385.48138734)\n",
       "</pre>\n"
      ],
      "text/plain": [
       "Saving new best model at 84729 timesteps (saved to saved_models/best_ppo) (reward=385.48138734)\n"
      ]
     },
     "metadata": {},
     "output_type": "display_data"
    },
    {
     "data": {
      "text/html": [
       "<pre style=\"white-space:pre;overflow-x:auto;line-height:normal;font-family:Menlo,'DejaVu Sans Mono',consolas,'Courier New',monospace\">Saving new best model at 85993 timesteps (saved to saved_models/best_ppo) (reward=399.39042267)\n",
       "</pre>\n"
      ],
      "text/plain": [
       "Saving new best model at 85993 timesteps (saved to saved_models/best_ppo) (reward=399.39042267)\n"
      ]
     },
     "metadata": {},
     "output_type": "display_data"
    },
    {
     "data": {
      "text/html": [
       "<pre style=\"white-space:pre;overflow-x:auto;line-height:normal;font-family:Menlo,'DejaVu Sans Mono',consolas,'Courier New',monospace\">Saving new best model at 86800 timesteps (saved to saved_models/best_ppo) (reward=407.70648226)\n",
       "</pre>\n"
      ],
      "text/plain": [
       "Saving new best model at 86800 timesteps (saved to saved_models/best_ppo) (reward=407.70648226)\n"
      ]
     },
     "metadata": {},
     "output_type": "display_data"
    },
    {
     "data": {
      "text/html": [
       "<pre style=\"white-space:pre;overflow-x:auto;line-height:normal;font-family:Menlo,'DejaVu Sans Mono',consolas,'Courier New',monospace\">Saving new best model at 87950 timesteps (saved to saved_models/best_ppo) (reward=412.5558992499999)\n",
       "</pre>\n"
      ],
      "text/plain": [
       "Saving new best model at 87950 timesteps (saved to saved_models/best_ppo) (reward=412.5558992499999)\n"
      ]
     },
     "metadata": {},
     "output_type": "display_data"
    },
    {
     "data": {
      "text/html": [
       "<pre style=\"white-space:pre;overflow-x:auto;line-height:normal;font-family:Menlo,'DejaVu Sans Mono',consolas,'Courier New',monospace\">Saving new best model at 129713 timesteps (saved to saved_models/best_ppo) (reward=415.84166765000003)\n",
       "</pre>\n"
      ],
      "text/plain": [
       "Saving new best model at 129713 timesteps (saved to saved_models/best_ppo) (reward=415.84166765000003)\n"
      ]
     },
     "metadata": {},
     "output_type": "display_data"
    },
    {
     "data": {
      "text/html": [
       "<pre style=\"white-space:pre;overflow-x:auto;line-height:normal;font-family:Menlo,'DejaVu Sans Mono',consolas,'Courier New',monospace\">Saving new best model at 132776 timesteps (saved to saved_models/best_ppo) (reward=418.74823746999994)\n",
       "</pre>\n"
      ],
      "text/plain": [
       "Saving new best model at 132776 timesteps (saved to saved_models/best_ppo) (reward=418.74823746999994)\n"
      ]
     },
     "metadata": {},
     "output_type": "display_data"
    },
    {
     "data": {
      "text/html": [
       "<pre style=\"white-space:pre;overflow-x:auto;line-height:normal;font-family:Menlo,'DejaVu Sans Mono',consolas,'Courier New',monospace\">Saving new best model at 137891 timesteps (saved to saved_models/best_ppo) (reward=422.6389)\n",
       "</pre>\n"
      ],
      "text/plain": [
       "Saving new best model at 137891 timesteps (saved to saved_models/best_ppo) (reward=422.6389)\n"
      ]
     },
     "metadata": {},
     "output_type": "display_data"
    },
    {
     "data": {
      "text/html": [
       "<pre style=\"white-space:pre;overflow-x:auto;line-height:normal;font-family:Menlo,'DejaVu Sans Mono',consolas,'Courier New',monospace\">Saving new best model at 138982 timesteps (saved to saved_models/best_ppo) (reward=433.83586138999993)\n",
       "</pre>\n"
      ],
      "text/plain": [
       "Saving new best model at 138982 timesteps (saved to saved_models/best_ppo) (reward=433.83586138999993)\n"
      ]
     },
     "metadata": {},
     "output_type": "display_data"
    },
    {
     "data": {
      "text/html": [
       "<pre style=\"white-space:pre;overflow-x:auto;line-height:normal;font-family:Menlo,'DejaVu Sans Mono',consolas,'Courier New',monospace\">Saving new best model at 141769 timesteps (saved to saved_models/best_ppo) (reward=444.07147490999995)\n",
       "</pre>\n"
      ],
      "text/plain": [
       "Saving new best model at 141769 timesteps (saved to saved_models/best_ppo) (reward=444.07147490999995)\n"
      ]
     },
     "metadata": {},
     "output_type": "display_data"
    },
    {
     "data": {
      "text/html": [
       "<pre style=\"white-space:pre;overflow-x:auto;line-height:normal;font-family:Menlo,'DejaVu Sans Mono',consolas,'Courier New',monospace\">Saving new best model at 142974 timesteps (saved to saved_models/best_ppo) (reward=455.21908864)\n",
       "</pre>\n"
      ],
      "text/plain": [
       "Saving new best model at 142974 timesteps (saved to saved_models/best_ppo) (reward=455.21908864)\n"
      ]
     },
     "metadata": {},
     "output_type": "display_data"
    },
    {
     "data": {
      "text/html": [
       "<pre style=\"white-space:pre;overflow-x:auto;line-height:normal;font-family:Menlo,'DejaVu Sans Mono',consolas,'Courier New',monospace\">Saving new best model at 143813 timesteps (saved to saved_models/best_ppo) (reward=456.8490448)\n",
       "</pre>\n"
      ],
      "text/plain": [
       "Saving new best model at 143813 timesteps (saved to saved_models/best_ppo) (reward=456.8490448)\n"
      ]
     },
     "metadata": {},
     "output_type": "display_data"
    },
    {
     "data": {
      "text/html": [
       "<pre style=\"white-space:pre;overflow-x:auto;line-height:normal;font-family:Menlo,'DejaVu Sans Mono',consolas,'Courier New',monospace\">Saving new best model at 182984 timesteps (saved to saved_models/best_ppo) (reward=458.38758948)\n",
       "</pre>\n"
      ],
      "text/plain": [
       "Saving new best model at 182984 timesteps (saved to saved_models/best_ppo) (reward=458.38758948)\n"
      ]
     },
     "metadata": {},
     "output_type": "display_data"
    },
    {
     "data": {
      "text/html": [
       "<pre style=\"white-space:pre;overflow-x:auto;line-height:normal;font-family:Menlo,'DejaVu Sans Mono',consolas,'Courier New',monospace\">Saving new best model at 199697 timesteps (saved to saved_models/best_ppo) (reward=465.85995052)\n",
       "</pre>\n"
      ],
      "text/plain": [
       "Saving new best model at 199697 timesteps (saved to saved_models/best_ppo) (reward=465.85995052)\n"
      ]
     },
     "metadata": {},
     "output_type": "display_data"
    },
    {
     "data": {
      "text/html": [
       "<pre style=\"white-space:pre;overflow-x:auto;line-height:normal;font-family:Menlo,'DejaVu Sans Mono',consolas,'Courier New',monospace\">Saving new best model at 206845 timesteps (saved to saved_models/best_ppo) (reward=473.5668710999999)\n",
       "</pre>\n"
      ],
      "text/plain": [
       "Saving new best model at 206845 timesteps (saved to saved_models/best_ppo) (reward=473.5668710999999)\n"
      ]
     },
     "metadata": {},
     "output_type": "display_data"
    },
    {
     "data": {
      "text/html": [
       "<pre style=\"white-space:pre;overflow-x:auto;line-height:normal;font-family:Menlo,'DejaVu Sans Mono',consolas,'Courier New',monospace\">Saving new best model at 213878 timesteps (saved to saved_models/best_ppo) (reward=479.84992344)\n",
       "</pre>\n"
      ],
      "text/plain": [
       "Saving new best model at 213878 timesteps (saved to saved_models/best_ppo) (reward=479.84992344)\n"
      ]
     },
     "metadata": {},
     "output_type": "display_data"
    },
    {
     "data": {
      "text/html": [
       "<pre style=\"white-space:pre;overflow-x:auto;line-height:normal;font-family:Menlo,'DejaVu Sans Mono',consolas,'Courier New',monospace\">Saving new best model at 214902 timesteps (saved to saved_models/best_ppo) (reward=481.9632053700001)\n",
       "</pre>\n"
      ],
      "text/plain": [
       "Saving new best model at 214902 timesteps (saved to saved_models/best_ppo) (reward=481.9632053700001)\n"
      ]
     },
     "metadata": {},
     "output_type": "display_data"
    },
    {
     "data": {
      "text/html": [
       "<pre style=\"white-space:pre;overflow-x:auto;line-height:normal;font-family:Menlo,'DejaVu Sans Mono',consolas,'Courier New',monospace\">Saving new best model at 236901 timesteps (saved to saved_models/best_ppo) (reward=482.8172885200001)\n",
       "</pre>\n"
      ],
      "text/plain": [
       "Saving new best model at 236901 timesteps (saved to saved_models/best_ppo) (reward=482.8172885200001)\n"
      ]
     },
     "metadata": {},
     "output_type": "display_data"
    },
    {
     "data": {
      "text/html": [
       "<pre style=\"white-space:pre;overflow-x:auto;line-height:normal;font-family:Menlo,'DejaVu Sans Mono',consolas,'Courier New',monospace\">Saving new best model at 237627 timesteps (saved to saved_models/best_ppo) (reward=488.8316917900001)\n",
       "</pre>\n"
      ],
      "text/plain": [
       "Saving new best model at 237627 timesteps (saved to saved_models/best_ppo) (reward=488.8316917900001)\n"
      ]
     },
     "metadata": {},
     "output_type": "display_data"
    },
    {
     "data": {
      "text/html": [
       "<pre style=\"white-space:pre;overflow-x:auto;line-height:normal;font-family:Menlo,'DejaVu Sans Mono',consolas,'Courier New',monospace\">Saving new best model at 238857 timesteps (saved to saved_models/best_ppo) (reward=493.59884549000003)\n",
       "</pre>\n"
      ],
      "text/plain": [
       "Saving new best model at 238857 timesteps (saved to saved_models/best_ppo) (reward=493.59884549000003)\n"
      ]
     },
     "metadata": {},
     "output_type": "display_data"
    },
    {
     "data": {
      "text/html": [
       "<pre style=\"white-space:pre;overflow-x:auto;line-height:normal;font-family:Menlo,'DejaVu Sans Mono',consolas,'Courier New',monospace\">Saving new best model at 332917 timesteps (saved to saved_models/best_ppo) (reward=508.92245075000005)\n",
       "</pre>\n"
      ],
      "text/plain": [
       "Saving new best model at 332917 timesteps (saved to saved_models/best_ppo) (reward=508.92245075000005)\n"
      ]
     },
     "metadata": {},
     "output_type": "display_data"
    },
    {
     "data": {
      "text/html": [
       "<pre style=\"white-space:pre;overflow-x:auto;line-height:normal;font-family:Menlo,'DejaVu Sans Mono',consolas,'Courier New',monospace\">Saving new best model at 344935 timesteps (saved to saved_models/best_ppo) (reward=509.33201260000004)\n",
       "</pre>\n"
      ],
      "text/plain": [
       "Saving new best model at 344935 timesteps (saved to saved_models/best_ppo) (reward=509.33201260000004)\n"
      ]
     },
     "metadata": {},
     "output_type": "display_data"
    },
    {
     "data": {
      "text/html": [
       "<pre style=\"white-space:pre;overflow-x:auto;line-height:normal;font-family:Menlo,'DejaVu Sans Mono',consolas,'Courier New',monospace\">Saving new best model at 346798 timesteps (saved to saved_models/best_ppo) (reward=510.92507193999995)\n",
       "</pre>\n"
      ],
      "text/plain": [
       "Saving new best model at 346798 timesteps (saved to saved_models/best_ppo) (reward=510.92507193999995)\n"
      ]
     },
     "metadata": {},
     "output_type": "display_data"
    },
    {
     "data": {
      "text/html": [
       "<pre style=\"white-space:pre;overflow-x:auto;line-height:normal;font-family:Menlo,'DejaVu Sans Mono',consolas,'Courier New',monospace\">Saving new best model at 347971 timesteps (saved to saved_models/best_ppo) (reward=518.80336873)\n",
       "</pre>\n"
      ],
      "text/plain": [
       "Saving new best model at 347971 timesteps (saved to saved_models/best_ppo) (reward=518.80336873)\n"
      ]
     },
     "metadata": {},
     "output_type": "display_data"
    },
    {
     "data": {
      "text/html": [
       "<pre style=\"white-space:pre;overflow-x:auto;line-height:normal;font-family:Menlo,'DejaVu Sans Mono',consolas,'Courier New',monospace\">Saving new best model at 348711 timesteps (saved to saved_models/best_ppo) (reward=530.55584232)\n",
       "</pre>\n"
      ],
      "text/plain": [
       "Saving new best model at 348711 timesteps (saved to saved_models/best_ppo) (reward=530.55584232)\n"
      ]
     },
     "metadata": {},
     "output_type": "display_data"
    },
    {
     "data": {
      "text/html": [
       "<pre style=\"white-space:pre;overflow-x:auto;line-height:normal;font-family:Menlo,'DejaVu Sans Mono',consolas,'Courier New',monospace\"></pre>\n"
      ],
      "text/plain": []
     },
     "metadata": {},
     "output_type": "display_data"
    },
    {
     "data": {
      "text/html": [
       "<pre style=\"white-space:pre;overflow-x:auto;line-height:normal;font-family:Menlo,'DejaVu Sans Mono',consolas,'Courier New',monospace\">\n",
       "</pre>\n"
      ],
      "text/plain": [
       "\n"
      ]
     },
     "metadata": {},
     "output_type": "display_data"
    },
    {
     "data": {
      "application/vnd.jupyter.widget-view+json": {
       "model_id": "a0472a1620744d7ea6b29ce7b3dfa5aa",
       "version_major": 2,
       "version_minor": 0
      },
      "text/plain": [
       "Output()"
      ]
     },
     "metadata": {},
     "output_type": "display_data"
    },
    {
     "name": "stdout",
     "output_type": "stream",
     "text": [
      "^ Tranch 2/10\n"
     ]
    },
    {
     "data": {
      "text/html": [
       "<pre style=\"white-space:pre;overflow-x:auto;line-height:normal;font-family:Menlo,'DejaVu Sans Mono',consolas,'Courier New',monospace\"></pre>\n"
      ],
      "text/plain": []
     },
     "metadata": {},
     "output_type": "display_data"
    },
    {
     "data": {
      "text/html": [
       "<pre style=\"white-space:pre;overflow-x:auto;line-height:normal;font-family:Menlo,'DejaVu Sans Mono',consolas,'Courier New',monospace\">\n",
       "</pre>\n"
      ],
      "text/plain": [
       "\n"
      ]
     },
     "metadata": {},
     "output_type": "display_data"
    },
    {
     "data": {
      "application/vnd.jupyter.widget-view+json": {
       "model_id": "35cf31a265d840d7a4cf29fab1a0d649",
       "version_major": 2,
       "version_minor": 0
      },
      "text/plain": [
       "Output()"
      ]
     },
     "metadata": {},
     "output_type": "display_data"
    },
    {
     "name": "stdout",
     "output_type": "stream",
     "text": [
      "^ Tranch 3/10\n"
     ]
    },
    {
     "data": {
      "text/html": [
       "<pre style=\"white-space:pre;overflow-x:auto;line-height:normal;font-family:Menlo,'DejaVu Sans Mono',consolas,'Courier New',monospace\">Saving new best model at 862918 timesteps (saved to saved_models/best_ppo) (reward=531.21511882)\n",
       "</pre>\n"
      ],
      "text/plain": [
       "Saving new best model at 862918 timesteps (saved to saved_models/best_ppo) (reward=531.21511882)\n"
      ]
     },
     "metadata": {},
     "output_type": "display_data"
    },
    {
     "data": {
      "text/html": [
       "<pre style=\"white-space:pre;overflow-x:auto;line-height:normal;font-family:Menlo,'DejaVu Sans Mono',consolas,'Courier New',monospace\">Saving new best model at 863993 timesteps (saved to saved_models/best_ppo) (reward=547.82005583)\n",
       "</pre>\n"
      ],
      "text/plain": [
       "Saving new best model at 863993 timesteps (saved to saved_models/best_ppo) (reward=547.82005583)\n"
      ]
     },
     "metadata": {},
     "output_type": "display_data"
    },
    {
     "data": {
      "text/html": [
       "<pre style=\"white-space:pre;overflow-x:auto;line-height:normal;font-family:Menlo,'DejaVu Sans Mono',consolas,'Courier New',monospace\">Saving new best model at 1152819 timesteps (saved to saved_models/best_ppo) (reward=549.7258682199999)\n",
       "</pre>\n"
      ],
      "text/plain": [
       "Saving new best model at 1152819 timesteps (saved to saved_models/best_ppo) (reward=549.7258682199999)\n"
      ]
     },
     "metadata": {},
     "output_type": "display_data"
    },
    {
     "data": {
      "text/html": [
       "<pre style=\"white-space:pre;overflow-x:auto;line-height:normal;font-family:Menlo,'DejaVu Sans Mono',consolas,'Courier New',monospace\"></pre>\n"
      ],
      "text/plain": []
     },
     "metadata": {},
     "output_type": "display_data"
    },
    {
     "data": {
      "text/html": [
       "<pre style=\"white-space:pre;overflow-x:auto;line-height:normal;font-family:Menlo,'DejaVu Sans Mono',consolas,'Courier New',monospace\">\n",
       "</pre>\n"
      ],
      "text/plain": [
       "\n"
      ]
     },
     "metadata": {},
     "output_type": "display_data"
    },
    {
     "data": {
      "application/vnd.jupyter.widget-view+json": {
       "model_id": "cbae696d186244099b55d2b5063e7d1b",
       "version_major": 2,
       "version_minor": 0
      },
      "text/plain": [
       "Output()"
      ]
     },
     "metadata": {},
     "output_type": "display_data"
    },
    {
     "name": "stdout",
     "output_type": "stream",
     "text": [
      "^ Tranch 4/10\n"
     ]
    },
    {
     "data": {
      "text/html": [
       "<pre style=\"white-space:pre;overflow-x:auto;line-height:normal;font-family:Menlo,'DejaVu Sans Mono',consolas,'Courier New',monospace\"></pre>\n"
      ],
      "text/plain": []
     },
     "metadata": {},
     "output_type": "display_data"
    },
    {
     "data": {
      "text/html": [
       "<pre style=\"white-space:pre;overflow-x:auto;line-height:normal;font-family:Menlo,'DejaVu Sans Mono',consolas,'Courier New',monospace\">\n",
       "</pre>\n"
      ],
      "text/plain": [
       "\n"
      ]
     },
     "metadata": {},
     "output_type": "display_data"
    },
    {
     "data": {
      "application/vnd.jupyter.widget-view+json": {
       "model_id": "148ca31e7d2a475bb2052f66a9f2f23e",
       "version_major": 2,
       "version_minor": 0
      },
      "text/plain": [
       "Output()"
      ]
     },
     "metadata": {},
     "output_type": "display_data"
    },
    {
     "name": "stdout",
     "output_type": "stream",
     "text": [
      "^ Tranch 5/10\n"
     ]
    },
    {
     "data": {
      "text/html": [
       "<pre style=\"white-space:pre;overflow-x:auto;line-height:normal;font-family:Menlo,'DejaVu Sans Mono',consolas,'Courier New',monospace\"></pre>\n"
      ],
      "text/plain": []
     },
     "metadata": {},
     "output_type": "display_data"
    },
    {
     "data": {
      "text/html": [
       "<pre style=\"white-space:pre;overflow-x:auto;line-height:normal;font-family:Menlo,'DejaVu Sans Mono',consolas,'Courier New',monospace\">\n",
       "</pre>\n"
      ],
      "text/plain": [
       "\n"
      ]
     },
     "metadata": {},
     "output_type": "display_data"
    },
    {
     "data": {
      "application/vnd.jupyter.widget-view+json": {
       "model_id": "1010f34036ba444c895c07a3a9012474",
       "version_major": 2,
       "version_minor": 0
      },
      "text/plain": [
       "Output()"
      ]
     },
     "metadata": {},
     "output_type": "display_data"
    },
    {
     "name": "stdout",
     "output_type": "stream",
     "text": [
      "^ Tranch 6/10\n"
     ]
    },
    {
     "data": {
      "text/html": [
       "<pre style=\"white-space:pre;overflow-x:auto;line-height:normal;font-family:Menlo,'DejaVu Sans Mono',consolas,'Courier New',monospace\"></pre>\n"
      ],
      "text/plain": []
     },
     "metadata": {},
     "output_type": "display_data"
    },
    {
     "data": {
      "text/html": [
       "<pre style=\"white-space:pre;overflow-x:auto;line-height:normal;font-family:Menlo,'DejaVu Sans Mono',consolas,'Courier New',monospace\">\n",
       "</pre>\n"
      ],
      "text/plain": [
       "\n"
      ]
     },
     "metadata": {},
     "output_type": "display_data"
    },
    {
     "data": {
      "application/vnd.jupyter.widget-view+json": {
       "model_id": "25d72d27eb6c454295434fecd4c0f793",
       "version_major": 2,
       "version_minor": 0
      },
      "text/plain": [
       "Output()"
      ]
     },
     "metadata": {},
     "output_type": "display_data"
    },
    {
     "name": "stdout",
     "output_type": "stream",
     "text": [
      "^ Tranch 7/10\n"
     ]
    },
    {
     "data": {
      "text/html": [
       "<pre style=\"white-space:pre;overflow-x:auto;line-height:normal;font-family:Menlo,'DejaVu Sans Mono',consolas,'Courier New',monospace\">Saving new best model at 2408922 timesteps (saved to saved_models/best_ppo) (reward=561.70116128)\n",
       "</pre>\n"
      ],
      "text/plain": [
       "Saving new best model at 2408922 timesteps (saved to saved_models/best_ppo) (reward=561.70116128)\n"
      ]
     },
     "metadata": {},
     "output_type": "display_data"
    },
    {
     "data": {
      "text/html": [
       "<pre style=\"white-space:pre;overflow-x:auto;line-height:normal;font-family:Menlo,'DejaVu Sans Mono',consolas,'Courier New',monospace\">Saving new best model at 2409847 timesteps (saved to saved_models/best_ppo) (reward=563.8983377299999)\n",
       "</pre>\n"
      ],
      "text/plain": [
       "Saving new best model at 2409847 timesteps (saved to saved_models/best_ppo) (reward=563.8983377299999)\n"
      ]
     },
     "metadata": {},
     "output_type": "display_data"
    },
    {
     "data": {
      "text/html": [
       "<pre style=\"white-space:pre;overflow-x:auto;line-height:normal;font-family:Menlo,'DejaVu Sans Mono',consolas,'Courier New',monospace\">Saving new best model at 2414761 timesteps (saved to saved_models/best_ppo) (reward=569.39669315)\n",
       "</pre>\n"
      ],
      "text/plain": [
       "Saving new best model at 2414761 timesteps (saved to saved_models/best_ppo) (reward=569.39669315)\n"
      ]
     },
     "metadata": {},
     "output_type": "display_data"
    },
    {
     "data": {
      "text/html": [
       "<pre style=\"white-space:pre;overflow-x:auto;line-height:normal;font-family:Menlo,'DejaVu Sans Mono',consolas,'Courier New',monospace\">Saving new best model at 2415823 timesteps (saved to saved_models/best_ppo) (reward=577.9513149400001)\n",
       "</pre>\n"
      ],
      "text/plain": [
       "Saving new best model at 2415823 timesteps (saved to saved_models/best_ppo) (reward=577.9513149400001)\n"
      ]
     },
     "metadata": {},
     "output_type": "display_data"
    },
    {
     "data": {
      "text/html": [
       "<pre style=\"white-space:pre;overflow-x:auto;line-height:normal;font-family:Menlo,'DejaVu Sans Mono',consolas,'Courier New',monospace\">Saving new best model at 2416845 timesteps (saved to saved_models/best_ppo) (reward=581.19515251)\n",
       "</pre>\n"
      ],
      "text/plain": [
       "Saving new best model at 2416845 timesteps (saved to saved_models/best_ppo) (reward=581.19515251)\n"
      ]
     },
     "metadata": {},
     "output_type": "display_data"
    },
    {
     "data": {
      "text/html": [
       "<pre style=\"white-space:pre;overflow-x:auto;line-height:normal;font-family:Menlo,'DejaVu Sans Mono',consolas,'Courier New',monospace\">Saving new best model at 2417896 timesteps (saved to saved_models/best_ppo) (reward=585.9760508600001)\n",
       "</pre>\n"
      ],
      "text/plain": [
       "Saving new best model at 2417896 timesteps (saved to saved_models/best_ppo) (reward=585.9760508600001)\n"
      ]
     },
     "metadata": {},
     "output_type": "display_data"
    },
    {
     "data": {
      "text/html": [
       "<pre style=\"white-space:pre;overflow-x:auto;line-height:normal;font-family:Menlo,'DejaVu Sans Mono',consolas,'Courier New',monospace\">Saving new best model at 2418971 timesteps (saved to saved_models/best_ppo) (reward=591.81042344)\n",
       "</pre>\n"
      ],
      "text/plain": [
       "Saving new best model at 2418971 timesteps (saved to saved_models/best_ppo) (reward=591.81042344)\n"
      ]
     },
     "metadata": {},
     "output_type": "display_data"
    },
    {
     "data": {
      "text/html": [
       "<pre style=\"white-space:pre;overflow-x:auto;line-height:normal;font-family:Menlo,'DejaVu Sans Mono',consolas,'Courier New',monospace\"></pre>\n"
      ],
      "text/plain": []
     },
     "metadata": {},
     "output_type": "display_data"
    },
    {
     "data": {
      "text/html": [
       "<pre style=\"white-space:pre;overflow-x:auto;line-height:normal;font-family:Menlo,'DejaVu Sans Mono',consolas,'Courier New',monospace\">\n",
       "</pre>\n"
      ],
      "text/plain": [
       "\n"
      ]
     },
     "metadata": {},
     "output_type": "display_data"
    },
    {
     "data": {
      "application/vnd.jupyter.widget-view+json": {
       "model_id": "cdd7b1f91b5149f78de592e6c285944a",
       "version_major": 2,
       "version_minor": 0
      },
      "text/plain": [
       "Output()"
      ]
     },
     "metadata": {},
     "output_type": "display_data"
    },
    {
     "name": "stdout",
     "output_type": "stream",
     "text": [
      "^ Tranch 8/10\n"
     ]
    },
    {
     "data": {
      "text/html": [
       "<pre style=\"white-space:pre;overflow-x:auto;line-height:normal;font-family:Menlo,'DejaVu Sans Mono',consolas,'Courier New',monospace\"></pre>\n"
      ],
      "text/plain": []
     },
     "metadata": {},
     "output_type": "display_data"
    },
    {
     "data": {
      "text/html": [
       "<pre style=\"white-space:pre;overflow-x:auto;line-height:normal;font-family:Menlo,'DejaVu Sans Mono',consolas,'Courier New',monospace\">\n",
       "</pre>\n"
      ],
      "text/plain": [
       "\n"
      ]
     },
     "metadata": {},
     "output_type": "display_data"
    },
    {
     "data": {
      "application/vnd.jupyter.widget-view+json": {
       "model_id": "80f6beed3c594841a0c9a21eeb792f70",
       "version_major": 2,
       "version_minor": 0
      },
      "text/plain": [
       "Output()"
      ]
     },
     "metadata": {},
     "output_type": "display_data"
    },
    {
     "name": "stdout",
     "output_type": "stream",
     "text": [
      "^ Tranch 9/10\n"
     ]
    },
    {
     "data": {
      "text/html": [
       "<pre style=\"white-space:pre;overflow-x:auto;line-height:normal;font-family:Menlo,'DejaVu Sans Mono',consolas,'Courier New',monospace\"></pre>\n"
      ],
      "text/plain": []
     },
     "metadata": {},
     "output_type": "display_data"
    },
    {
     "data": {
      "text/html": [
       "<pre style=\"white-space:pre;overflow-x:auto;line-height:normal;font-family:Menlo,'DejaVu Sans Mono',consolas,'Courier New',monospace\">\n",
       "</pre>\n"
      ],
      "text/plain": [
       "\n"
      ]
     },
     "metadata": {},
     "output_type": "display_data"
    },
    {
     "data": {
      "application/vnd.jupyter.widget-view+json": {
       "model_id": "c0b3e55179954d309fe70484b1cf6bc8",
       "version_major": 2,
       "version_minor": 0
      },
      "text/plain": [
       "Output()"
      ]
     },
     "metadata": {},
     "output_type": "display_data"
    },
    {
     "name": "stdout",
     "output_type": "stream",
     "text": [
      "^ Tranch 10/10\n"
     ]
    },
    {
     "data": {
      "text/html": [
       "<pre style=\"white-space:pre;overflow-x:auto;line-height:normal;font-family:Menlo,'DejaVu Sans Mono',consolas,'Courier New',monospace\"></pre>\n"
      ],
      "text/plain": []
     },
     "metadata": {},
     "output_type": "display_data"
    },
    {
     "data": {
      "text/html": [
       "<pre style=\"white-space:pre;overflow-x:auto;line-height:normal;font-family:Menlo,'DejaVu Sans Mono',consolas,'Courier New',monospace\">\n",
       "</pre>\n"
      ],
      "text/plain": [
       "\n"
      ]
     },
     "metadata": {},
     "output_type": "display_data"
    }
   ],
   "source": [
    "# Instantiate and wrap the env\n",
    "env_ppo = make_vec_env(SimpleSimGym, \n",
    "                   n_envs=1, \n",
    "                   monitor_dir=config[\"logdir\"]+\"ppo\", \n",
    "                   env_kwargs=dict(\n",
    "                       max_budget=MAX_BUDGET, \n",
    "                       max_targets=MAX_TARGETS, \n",
    "                       num_classes=NUM_CLASSES, \n",
    "                       player_fov=PLAYER_FOV, \n",
    "                       render_mode=RENDER_MODE, \n",
    "                       action_format=\"continuous\"))\n",
    "\n",
    "# Setup callbacks\n",
    "# ppo_save_callback = SaveOnBestTrainingRewardCallback(check_freq=1000, log_dir=config[\"logdir\"], save_dir=config[\"savedir\"], verbose=0)\n",
    "ppo_save_callback = SaveOnBestTrainingRewardCallback(check_freq=1000, log_dir=config[\"logdir\"], save_dir=config[\"savedir\"], model_name=\"ppo\", verbose=0)\n",
    "\n",
    "# # Load the model from checkpoint 2\n",
    "# model_ppo = PPO.load(f\"{config['savedir']}/MlpPolicy_PPO_step2000000\", env_ppo)\n",
    "\n",
    "# Create the agent\n",
    "model_ppo = PPO(config[\"policy\"], env_ppo, tensorboard_log=config[\"logdir\"], verbose=0)\n",
    "\n",
    "# # Train the agent\n",
    "# model_ppo.learn(config[\"total_timesteps\"], tb_log_name=\"PPO\", callback=ppo_save_callback, progress_bar=True)\n",
    "# model_ppo.save(f\"{config['savedir']}/{config['policy']}_PPO\")\n",
    "\n",
    "# Train in tranches\n",
    "times_trained = 0\n",
    "num_tranches = 10\n",
    "tranches = num_tranches*(1+times_trained)\n",
    "\n",
    "for i in range((num_tranches * times_trained)+1, tranches+1):\n",
    "    print(f\"^ Tranch {i}/{tranches}\")\n",
    "    if i == 1:\n",
    "        model_ppo.learn(config[\"total_timesteps\"]//tranches, tb_log_name=\"PPO\", callback=ppo_save_callback, progress_bar=True, reset_num_timesteps=True)\n",
    "    else:\n",
    "        model_ppo.learn(config[\"total_timesteps\"]//tranches, tb_log_name=\"PPO\", callback=ppo_save_callback, progress_bar=True, reset_num_timesteps=False)\n",
    "    model_ppo.save(f\"{config['savedir']}/{config['policy']}_PPO_step{i * (config['total_timesteps']//tranches)}\")"
   ]
  },
  {
   "cell_type": "markdown",
   "metadata": {
    "id": "xcNl-vXgmHgo"
   },
   "source": [
    "### Train DQN"
   ]
  },
  {
   "cell_type": "code",
   "execution_count": 9,
   "metadata": {
    "colab": {
     "base_uri": "https://localhost:8080/",
     "height": 294,
     "referenced_widgets": [
      "2bdf01d2ef434f29a948a4940625f6b0",
      "3bc1dfa18bf14d2a97852ff75ecad0f9"
     ]
    },
    "id": "6WOtrw-xmGhc",
    "outputId": "e0e86910-3357-457d-c95a-9bb833c3ae35"
   },
   "outputs": [
    {
     "data": {
      "application/vnd.jupyter.widget-view+json": {
       "model_id": "5ca0c8f0e7464cfab4b9e192d8519735",
       "version_major": 2,
       "version_minor": 0
      },
      "text/plain": [
       "Output()"
      ]
     },
     "metadata": {},
     "output_type": "display_data"
    },
    {
     "data": {
      "text/html": [
       "<pre style=\"white-space:pre;overflow-x:auto;line-height:normal;font-family:Menlo,'DejaVu Sans Mono',consolas,'Courier New',monospace\">Saving new best model at 753 timesteps (saved to saved_models/best_dqn) (reward=113.03841)\n",
       "</pre>\n"
      ],
      "text/plain": [
       "Saving new best model at 753 timesteps (saved to saved_models/best_dqn) (reward=113.03841)\n"
      ]
     },
     "metadata": {},
     "output_type": "display_data"
    },
    {
     "data": {
      "text/html": [
       "<pre style=\"white-space:pre;overflow-x:auto;line-height:normal;font-family:Menlo,'DejaVu Sans Mono',consolas,'Courier New',monospace\">Saving new best model at 1954 timesteps (saved to saved_models/best_dqn) (reward=231.40734600000002)\n",
       "</pre>\n"
      ],
      "text/plain": [
       "Saving new best model at 1954 timesteps (saved to saved_models/best_dqn) (reward=231.40734600000002)\n"
      ]
     },
     "metadata": {},
     "output_type": "display_data"
    },
    {
     "data": {
      "text/html": [
       "<pre style=\"white-space:pre;overflow-x:auto;line-height:normal;font-family:Menlo,'DejaVu Sans Mono',consolas,'Courier New',monospace\">Saving new best model at 2656 timesteps (saved to saved_models/best_dqn) (reward=268.52592890000005)\n",
       "</pre>\n"
      ],
      "text/plain": [
       "Saving new best model at 2656 timesteps (saved to saved_models/best_dqn) (reward=268.52592890000005)\n"
      ]
     },
     "metadata": {},
     "output_type": "display_data"
    },
    {
     "data": {
      "text/html": [
       "<pre style=\"white-space:pre;overflow-x:auto;line-height:normal;font-family:Menlo,'DejaVu Sans Mono',consolas,'Courier New',monospace\"></pre>\n"
      ],
      "text/plain": []
     },
     "metadata": {},
     "output_type": "display_data"
    },
    {
     "data": {
      "text/html": [
       "<pre style=\"white-space:pre;overflow-x:auto;line-height:normal;font-family:Menlo,'DejaVu Sans Mono',consolas,'Courier New',monospace\">\n",
       "</pre>\n"
      ],
      "text/plain": [
       "\n"
      ]
     },
     "metadata": {},
     "output_type": "display_data"
    },
    {
     "data": {
      "application/vnd.jupyter.widget-view+json": {
       "model_id": "142c260d40f04b45b0f5fe198c91e303",
       "version_major": 2,
       "version_minor": 0
      },
      "text/plain": [
       "Output()"
      ]
     },
     "metadata": {},
     "output_type": "display_data"
    },
    {
     "name": "stdout",
     "output_type": "stream",
     "text": [
      "^ Tranch 2/10\n"
     ]
    },
    {
     "data": {
      "text/html": [
       "<pre style=\"white-space:pre;overflow-x:auto;line-height:normal;font-family:Menlo,'DejaVu Sans Mono',consolas,'Courier New',monospace\">Saving new best model at 452928 timesteps (saved to saved_models/best_dqn) (reward=268.88482547999996)\n",
       "</pre>\n"
      ],
      "text/plain": [
       "Saving new best model at 452928 timesteps (saved to saved_models/best_dqn) (reward=268.88482547999996)\n"
      ]
     },
     "metadata": {},
     "output_type": "display_data"
    },
    {
     "data": {
      "text/html": [
       "<pre style=\"white-space:pre;overflow-x:auto;line-height:normal;font-family:Menlo,'DejaVu Sans Mono',consolas,'Courier New',monospace\">Saving new best model at 453968 timesteps (saved to saved_models/best_dqn) (reward=274.6816996)\n",
       "</pre>\n"
      ],
      "text/plain": [
       "Saving new best model at 453968 timesteps (saved to saved_models/best_dqn) (reward=274.6816996)\n"
      ]
     },
     "metadata": {},
     "output_type": "display_data"
    },
    {
     "data": {
      "text/html": [
       "<pre style=\"white-space:pre;overflow-x:auto;line-height:normal;font-family:Menlo,'DejaVu Sans Mono',consolas,'Courier New',monospace\">Saving new best model at 458941 timesteps (saved to saved_models/best_dqn) (reward=274.89430333)\n",
       "</pre>\n"
      ],
      "text/plain": [
       "Saving new best model at 458941 timesteps (saved to saved_models/best_dqn) (reward=274.89430333)\n"
      ]
     },
     "metadata": {},
     "output_type": "display_data"
    },
    {
     "data": {
      "text/html": [
       "<pre style=\"white-space:pre;overflow-x:auto;line-height:normal;font-family:Menlo,'DejaVu Sans Mono',consolas,'Courier New',monospace\">Saving new best model at 545926 timesteps (saved to saved_models/best_dqn) (reward=279.34141177)\n",
       "</pre>\n"
      ],
      "text/plain": [
       "Saving new best model at 545926 timesteps (saved to saved_models/best_dqn) (reward=279.34141177)\n"
      ]
     },
     "metadata": {},
     "output_type": "display_data"
    },
    {
     "data": {
      "text/html": [
       "<pre style=\"white-space:pre;overflow-x:auto;line-height:normal;font-family:Menlo,'DejaVu Sans Mono',consolas,'Courier New',monospace\">Saving new best model at 551894 timesteps (saved to saved_models/best_dqn) (reward=281.30408974)\n",
       "</pre>\n"
      ],
      "text/plain": [
       "Saving new best model at 551894 timesteps (saved to saved_models/best_dqn) (reward=281.30408974)\n"
      ]
     },
     "metadata": {},
     "output_type": "display_data"
    },
    {
     "data": {
      "text/html": [
       "<pre style=\"white-space:pre;overflow-x:auto;line-height:normal;font-family:Menlo,'DejaVu Sans Mono',consolas,'Courier New',monospace\">Saving new best model at 772838 timesteps (saved to saved_models/best_dqn) (reward=285.69599476999997)\n",
       "</pre>\n"
      ],
      "text/plain": [
       "Saving new best model at 772838 timesteps (saved to saved_models/best_dqn) (reward=285.69599476999997)\n"
      ]
     },
     "metadata": {},
     "output_type": "display_data"
    },
    {
     "data": {
      "text/html": [
       "<pre style=\"white-space:pre;overflow-x:auto;line-height:normal;font-family:Menlo,'DejaVu Sans Mono',consolas,'Courier New',monospace\">Saving new best model at 781925 timesteps (saved to saved_models/best_dqn) (reward=295.28777793)\n",
       "</pre>\n"
      ],
      "text/plain": [
       "Saving new best model at 781925 timesteps (saved to saved_models/best_dqn) (reward=295.28777793)\n"
      ]
     },
     "metadata": {},
     "output_type": "display_data"
    },
    {
     "data": {
      "text/html": [
       "<pre style=\"white-space:pre;overflow-x:auto;line-height:normal;font-family:Menlo,'DejaVu Sans Mono',consolas,'Courier New',monospace\">Saving new best model at 782989 timesteps (saved to saved_models/best_dqn) (reward=315.26961402)\n",
       "</pre>\n"
      ],
      "text/plain": [
       "Saving new best model at 782989 timesteps (saved to saved_models/best_dqn) (reward=315.26961402)\n"
      ]
     },
     "metadata": {},
     "output_type": "display_data"
    },
    {
     "data": {
      "text/html": [
       "<pre style=\"white-space:pre;overflow-x:auto;line-height:normal;font-family:Menlo,'DejaVu Sans Mono',consolas,'Courier New',monospace\">Saving new best model at 786688 timesteps (saved to saved_models/best_dqn) (reward=324.26835601000005)\n",
       "</pre>\n"
      ],
      "text/plain": [
       "Saving new best model at 786688 timesteps (saved to saved_models/best_dqn) (reward=324.26835601000005)\n"
      ]
     },
     "metadata": {},
     "output_type": "display_data"
    },
    {
     "data": {
      "text/html": [
       "<pre style=\"white-space:pre;overflow-x:auto;line-height:normal;font-family:Menlo,'DejaVu Sans Mono',consolas,'Courier New',monospace\">Saving new best model at 787930 timesteps (saved to saved_models/best_dqn) (reward=325.45060630000006)\n",
       "</pre>\n"
      ],
      "text/plain": [
       "Saving new best model at 787930 timesteps (saved to saved_models/best_dqn) (reward=325.45060630000006)\n"
      ]
     },
     "metadata": {},
     "output_type": "display_data"
    },
    {
     "data": {
      "text/html": [
       "<pre style=\"white-space:pre;overflow-x:auto;line-height:normal;font-family:Menlo,'DejaVu Sans Mono',consolas,'Courier New',monospace\">Saving new best model at 788663 timesteps (saved to saved_models/best_dqn) (reward=336.22506474)\n",
       "</pre>\n"
      ],
      "text/plain": [
       "Saving new best model at 788663 timesteps (saved to saved_models/best_dqn) (reward=336.22506474)\n"
      ]
     },
     "metadata": {},
     "output_type": "display_data"
    },
    {
     "data": {
      "text/html": [
       "<pre style=\"white-space:pre;overflow-x:auto;line-height:normal;font-family:Menlo,'DejaVu Sans Mono',consolas,'Courier New',monospace\">Saving new best model at 789772 timesteps (saved to saved_models/best_dqn) (reward=341.59616159000007)\n",
       "</pre>\n"
      ],
      "text/plain": [
       "Saving new best model at 789772 timesteps (saved to saved_models/best_dqn) (reward=341.59616159000007)\n"
      ]
     },
     "metadata": {},
     "output_type": "display_data"
    },
    {
     "data": {
      "text/html": [
       "<pre style=\"white-space:pre;overflow-x:auto;line-height:normal;font-family:Menlo,'DejaVu Sans Mono',consolas,'Courier New',monospace\">Saving new best model at 790779 timesteps (saved to saved_models/best_dqn) (reward=346.04536014000007)\n",
       "</pre>\n"
      ],
      "text/plain": [
       "Saving new best model at 790779 timesteps (saved to saved_models/best_dqn) (reward=346.04536014000007)\n"
      ]
     },
     "metadata": {},
     "output_type": "display_data"
    },
    {
     "data": {
      "text/html": [
       "<pre style=\"white-space:pre;overflow-x:auto;line-height:normal;font-family:Menlo,'DejaVu Sans Mono',consolas,'Courier New',monospace\"></pre>\n"
      ],
      "text/plain": []
     },
     "metadata": {},
     "output_type": "display_data"
    },
    {
     "data": {
      "text/html": [
       "<pre style=\"white-space:pre;overflow-x:auto;line-height:normal;font-family:Menlo,'DejaVu Sans Mono',consolas,'Courier New',monospace\">\n",
       "</pre>\n"
      ],
      "text/plain": [
       "\n"
      ]
     },
     "metadata": {},
     "output_type": "display_data"
    },
    {
     "data": {
      "application/vnd.jupyter.widget-view+json": {
       "model_id": "bf524b7513714ecf864979be8b47c826",
       "version_major": 2,
       "version_minor": 0
      },
      "text/plain": [
       "Output()"
      ]
     },
     "metadata": {},
     "output_type": "display_data"
    },
    {
     "name": "stdout",
     "output_type": "stream",
     "text": [
      "^ Tranch 3/10\n"
     ]
    },
    {
     "data": {
      "text/html": [
       "<pre style=\"white-space:pre;overflow-x:auto;line-height:normal;font-family:Menlo,'DejaVu Sans Mono',consolas,'Courier New',monospace\"></pre>\n"
      ],
      "text/plain": []
     },
     "metadata": {},
     "output_type": "display_data"
    },
    {
     "data": {
      "text/html": [
       "<pre style=\"white-space:pre;overflow-x:auto;line-height:normal;font-family:Menlo,'DejaVu Sans Mono',consolas,'Courier New',monospace\">\n",
       "</pre>\n"
      ],
      "text/plain": [
       "\n"
      ]
     },
     "metadata": {},
     "output_type": "display_data"
    },
    {
     "data": {
      "application/vnd.jupyter.widget-view+json": {
       "model_id": "a1ef72f14b904c2cbebed78d85deb405",
       "version_major": 2,
       "version_minor": 0
      },
      "text/plain": [
       "Output()"
      ]
     },
     "metadata": {},
     "output_type": "display_data"
    },
    {
     "name": "stdout",
     "output_type": "stream",
     "text": [
      "^ Tranch 4/10\n"
     ]
    },
    {
     "data": {
      "text/html": [
       "<pre style=\"white-space:pre;overflow-x:auto;line-height:normal;font-family:Menlo,'DejaVu Sans Mono',consolas,'Courier New',monospace\">Saving new best model at 1549762 timesteps (saved to saved_models/best_dqn) (reward=354.80847052999997)\n",
       "</pre>\n"
      ],
      "text/plain": [
       "Saving new best model at 1549762 timesteps (saved to saved_models/best_dqn) (reward=354.80847052999997)\n"
      ]
     },
     "metadata": {},
     "output_type": "display_data"
    },
    {
     "data": {
      "text/html": [
       "<pre style=\"white-space:pre;overflow-x:auto;line-height:normal;font-family:Menlo,'DejaVu Sans Mono',consolas,'Courier New',monospace\">Saving new best model at 1550794 timesteps (saved to saved_models/best_dqn) (reward=358.18151750000004)\n",
       "</pre>\n"
      ],
      "text/plain": [
       "Saving new best model at 1550794 timesteps (saved to saved_models/best_dqn) (reward=358.18151750000004)\n"
      ]
     },
     "metadata": {},
     "output_type": "display_data"
    },
    {
     "data": {
      "text/html": [
       "<pre style=\"white-space:pre;overflow-x:auto;line-height:normal;font-family:Menlo,'DejaVu Sans Mono',consolas,'Courier New',monospace\">Saving new best model at 1551887 timesteps (saved to saved_models/best_dqn) (reward=363.03706582000007)\n",
       "</pre>\n"
      ],
      "text/plain": [
       "Saving new best model at 1551887 timesteps (saved to saved_models/best_dqn) (reward=363.03706582000007)\n"
      ]
     },
     "metadata": {},
     "output_type": "display_data"
    },
    {
     "data": {
      "text/html": [
       "<pre style=\"white-space:pre;overflow-x:auto;line-height:normal;font-family:Menlo,'DejaVu Sans Mono',consolas,'Courier New',monospace\"></pre>\n"
      ],
      "text/plain": []
     },
     "metadata": {},
     "output_type": "display_data"
    },
    {
     "data": {
      "text/html": [
       "<pre style=\"white-space:pre;overflow-x:auto;line-height:normal;font-family:Menlo,'DejaVu Sans Mono',consolas,'Courier New',monospace\">\n",
       "</pre>\n"
      ],
      "text/plain": [
       "\n"
      ]
     },
     "metadata": {},
     "output_type": "display_data"
    },
    {
     "data": {
      "application/vnd.jupyter.widget-view+json": {
       "model_id": "235ba294be524a52b65fef0e778cb36e",
       "version_major": 2,
       "version_minor": 0
      },
      "text/plain": [
       "Output()"
      ]
     },
     "metadata": {},
     "output_type": "display_data"
    },
    {
     "name": "stdout",
     "output_type": "stream",
     "text": [
      "^ Tranch 5/10\n"
     ]
    },
    {
     "data": {
      "text/html": [
       "<pre style=\"white-space:pre;overflow-x:auto;line-height:normal;font-family:Menlo,'DejaVu Sans Mono',consolas,'Courier New',monospace\">Saving new best model at 1871834 timesteps (saved to saved_models/best_dqn) (reward=363.98019092000004)\n",
       "</pre>\n"
      ],
      "text/plain": [
       "Saving new best model at 1871834 timesteps (saved to saved_models/best_dqn) (reward=363.98019092000004)\n"
      ]
     },
     "metadata": {},
     "output_type": "display_data"
    },
    {
     "data": {
      "text/html": [
       "<pre style=\"white-space:pre;overflow-x:auto;line-height:normal;font-family:Menlo,'DejaVu Sans Mono',consolas,'Courier New',monospace\">Saving new best model at 1872962 timesteps (saved to saved_models/best_dqn) (reward=364.3398026500001)\n",
       "</pre>\n"
      ],
      "text/plain": [
       "Saving new best model at 1872962 timesteps (saved to saved_models/best_dqn) (reward=364.3398026500001)\n"
      ]
     },
     "metadata": {},
     "output_type": "display_data"
    },
    {
     "data": {
      "text/html": [
       "<pre style=\"white-space:pre;overflow-x:auto;line-height:normal;font-family:Menlo,'DejaVu Sans Mono',consolas,'Courier New',monospace\">Saving new best model at 1965778 timesteps (saved to saved_models/best_dqn) (reward=369.78757322999996)\n",
       "</pre>\n"
      ],
      "text/plain": [
       "Saving new best model at 1965778 timesteps (saved to saved_models/best_dqn) (reward=369.78757322999996)\n"
      ]
     },
     "metadata": {},
     "output_type": "display_data"
    },
    {
     "data": {
      "text/html": [
       "<pre style=\"white-space:pre;overflow-x:auto;line-height:normal;font-family:Menlo,'DejaVu Sans Mono',consolas,'Courier New',monospace\">Saving new best model at 1966956 timesteps (saved to saved_models/best_dqn) (reward=385.44632335)\n",
       "</pre>\n"
      ],
      "text/plain": [
       "Saving new best model at 1966956 timesteps (saved to saved_models/best_dqn) (reward=385.44632335)\n"
      ]
     },
     "metadata": {},
     "output_type": "display_data"
    },
    {
     "data": {
      "text/html": [
       "<pre style=\"white-space:pre;overflow-x:auto;line-height:normal;font-family:Menlo,'DejaVu Sans Mono',consolas,'Courier New',monospace\">Saving new best model at 1968696 timesteps (saved to saved_models/best_dqn) (reward=391.90672186000006)\n",
       "</pre>\n"
      ],
      "text/plain": [
       "Saving new best model at 1968696 timesteps (saved to saved_models/best_dqn) (reward=391.90672186000006)\n"
      ]
     },
     "metadata": {},
     "output_type": "display_data"
    },
    {
     "data": {
      "text/html": [
       "<pre style=\"white-space:pre;overflow-x:auto;line-height:normal;font-family:Menlo,'DejaVu Sans Mono',consolas,'Courier New',monospace\"></pre>\n"
      ],
      "text/plain": []
     },
     "metadata": {},
     "output_type": "display_data"
    },
    {
     "data": {
      "text/html": [
       "<pre style=\"white-space:pre;overflow-x:auto;line-height:normal;font-family:Menlo,'DejaVu Sans Mono',consolas,'Courier New',monospace\">\n",
       "</pre>\n"
      ],
      "text/plain": [
       "\n"
      ]
     },
     "metadata": {},
     "output_type": "display_data"
    },
    {
     "data": {
      "application/vnd.jupyter.widget-view+json": {
       "model_id": "d89783074f8741008ff05851ab8936f1",
       "version_major": 2,
       "version_minor": 0
      },
      "text/plain": [
       "Output()"
      ]
     },
     "metadata": {},
     "output_type": "display_data"
    },
    {
     "name": "stdout",
     "output_type": "stream",
     "text": [
      "^ Tranch 6/10\n"
     ]
    },
    {
     "data": {
      "text/html": [
       "<pre style=\"white-space:pre;overflow-x:auto;line-height:normal;font-family:Menlo,'DejaVu Sans Mono',consolas,'Courier New',monospace\"></pre>\n"
      ],
      "text/plain": []
     },
     "metadata": {},
     "output_type": "display_data"
    },
    {
     "data": {
      "text/html": [
       "<pre style=\"white-space:pre;overflow-x:auto;line-height:normal;font-family:Menlo,'DejaVu Sans Mono',consolas,'Courier New',monospace\">\n",
       "</pre>\n"
      ],
      "text/plain": [
       "\n"
      ]
     },
     "metadata": {},
     "output_type": "display_data"
    },
    {
     "data": {
      "application/vnd.jupyter.widget-view+json": {
       "model_id": "288257d9d6cd46f1b61f06cf7c4003aa",
       "version_major": 2,
       "version_minor": 0
      },
      "text/plain": [
       "Output()"
      ]
     },
     "metadata": {},
     "output_type": "display_data"
    },
    {
     "name": "stdout",
     "output_type": "stream",
     "text": [
      "^ Tranch 7/10\n"
     ]
    },
    {
     "data": {
      "text/html": [
       "<pre style=\"white-space:pre;overflow-x:auto;line-height:normal;font-family:Menlo,'DejaVu Sans Mono',consolas,'Courier New',monospace\"></pre>\n"
      ],
      "text/plain": []
     },
     "metadata": {},
     "output_type": "display_data"
    },
    {
     "data": {
      "text/html": [
       "<pre style=\"white-space:pre;overflow-x:auto;line-height:normal;font-family:Menlo,'DejaVu Sans Mono',consolas,'Courier New',monospace\">\n",
       "</pre>\n"
      ],
      "text/plain": [
       "\n"
      ]
     },
     "metadata": {},
     "output_type": "display_data"
    },
    {
     "data": {
      "application/vnd.jupyter.widget-view+json": {
       "model_id": "f2a8db8dbec04d21830c239a081bcb57",
       "version_major": 2,
       "version_minor": 0
      },
      "text/plain": [
       "Output()"
      ]
     },
     "metadata": {},
     "output_type": "display_data"
    },
    {
     "name": "stdout",
     "output_type": "stream",
     "text": [
      "^ Tranch 8/10\n"
     ]
    },
    {
     "data": {
      "text/html": [
       "<pre style=\"white-space:pre;overflow-x:auto;line-height:normal;font-family:Menlo,'DejaVu Sans Mono',consolas,'Courier New',monospace\"></pre>\n"
      ],
      "text/plain": []
     },
     "metadata": {},
     "output_type": "display_data"
    },
    {
     "data": {
      "text/html": [
       "<pre style=\"white-space:pre;overflow-x:auto;line-height:normal;font-family:Menlo,'DejaVu Sans Mono',consolas,'Courier New',monospace\">\n",
       "</pre>\n"
      ],
      "text/plain": [
       "\n"
      ]
     },
     "metadata": {},
     "output_type": "display_data"
    },
    {
     "data": {
      "application/vnd.jupyter.widget-view+json": {
       "model_id": "008bd5f4e8f6419e91d4f59dcff25b8b",
       "version_major": 2,
       "version_minor": 0
      },
      "text/plain": [
       "Output()"
      ]
     },
     "metadata": {},
     "output_type": "display_data"
    },
    {
     "name": "stdout",
     "output_type": "stream",
     "text": [
      "^ Tranch 9/10\n"
     ]
    },
    {
     "data": {
      "text/html": [
       "<pre style=\"white-space:pre;overflow-x:auto;line-height:normal;font-family:Menlo,'DejaVu Sans Mono',consolas,'Courier New',monospace\"></pre>\n"
      ],
      "text/plain": []
     },
     "metadata": {},
     "output_type": "display_data"
    },
    {
     "data": {
      "text/html": [
       "<pre style=\"white-space:pre;overflow-x:auto;line-height:normal;font-family:Menlo,'DejaVu Sans Mono',consolas,'Courier New',monospace\">\n",
       "</pre>\n"
      ],
      "text/plain": [
       "\n"
      ]
     },
     "metadata": {},
     "output_type": "display_data"
    },
    {
     "data": {
      "application/vnd.jupyter.widget-view+json": {
       "model_id": "26f46cc04ecb472ca688f9ba6db3f82b",
       "version_major": 2,
       "version_minor": 0
      },
      "text/plain": [
       "Output()"
      ]
     },
     "metadata": {},
     "output_type": "display_data"
    },
    {
     "name": "stdout",
     "output_type": "stream",
     "text": [
      "^ Tranch 10/10\n"
     ]
    },
    {
     "data": {
      "text/html": [
       "<pre style=\"white-space:pre;overflow-x:auto;line-height:normal;font-family:Menlo,'DejaVu Sans Mono',consolas,'Courier New',monospace\"></pre>\n"
      ],
      "text/plain": []
     },
     "metadata": {},
     "output_type": "display_data"
    },
    {
     "data": {
      "text/html": [
       "<pre style=\"white-space:pre;overflow-x:auto;line-height:normal;font-family:Menlo,'DejaVu Sans Mono',consolas,'Courier New',monospace\">\n",
       "</pre>\n"
      ],
      "text/plain": [
       "\n"
      ]
     },
     "metadata": {},
     "output_type": "display_data"
    }
   ],
   "source": [
    "# Instantiate and wrap the env\n",
    "env_dqn = make_vec_env(SimpleSimGym, \n",
    "                   n_envs=1, \n",
    "                   monitor_dir=config[\"logdir\"]+\"dqn\", \n",
    "                   env_kwargs=dict(\n",
    "                       max_budget=MAX_BUDGET, \n",
    "                       max_targets=MAX_TARGETS, \n",
    "                       num_classes=NUM_CLASSES, \n",
    "                       player_fov=PLAYER_FOV, \n",
    "                       render_mode=RENDER_MODE, \n",
    "                       action_format=\"discrete\"))\n",
    "\n",
    "# Setup callbacks\n",
    "dqn_save_callback = SaveOnBestTrainingRewardCallback(check_freq=1000, log_dir=config[\"logdir\"], save_dir=config[\"savedir\"], model_name=\"dqn\", verbose=0)\n",
    "\n",
    "# # Load the model from checkpoint 6M\n",
    "# model_dqn = DQN.load(f\"{config['savedir']}/MlpPolicy_DQN_step8000000\", env_dqn)\n",
    "# Create the agent\n",
    "model_dqn = DQN(config[\"policy\"], env_dqn, tensorboard_log=config[\"logdir\"], verbose=0)\n",
    "\n",
    "# # # Train the agent\n",
    "# # model_dqn.learn(config[\"total_timesteps\"], tb_log_name=\"DQN\", callback=dqn_save_callback, progress_bar=True)\n",
    "# # model_dqn.save(f\"{config['savedir']}/{config['policy']}_DQN\")\n",
    "\n",
    "# Train in tranches\n",
    "times_trained = 0\n",
    "num_tranches = 10\n",
    "tranches = num_tranches*(1+times_trained)\n",
    "\n",
    "for i in range((num_tranches * times_trained)+1, tranches+1):\n",
    "    print(f\"^ Tranch {i}/{tranches}\")\n",
    "    if i == 1:\n",
    "        model_dqn.learn(config[\"total_timesteps\"]//tranches, tb_log_name=\"DQN\", callback=dqn_save_callback, progress_bar=True, reset_num_timesteps=True)\n",
    "    else:\n",
    "        model_dqn.learn(config[\"total_timesteps\"]//tranches, tb_log_name=\"DQN\", callback=dqn_save_callback, progress_bar=True, reset_num_timesteps=False)\n",
    "    model_dqn.save(f\"{config['savedir']}/{config['policy']}_DQN_step{i * (config['total_timesteps']//tranches)}\")"
   ]
  },
  {
   "cell_type": "markdown",
   "metadata": {
    "id": "4w9ifee98kOL"
   },
   "source": [
    "### Continue Training or Run Dupliacte Experiments?\n",
    "\n",
    "This cell can be used to either continue training on an existing model (use `reset_num_timesteps=False`) or to run additional duplicate experiments training from scratch to test training consistency"
   ]
  },
  {
   "cell_type": "code",
   "execution_count": 10,
   "metadata": {},
   "outputs": [],
   "source": [
    "# model_sac.learn(config[\"total_timesteps\"], tb_log_name=\"SAC\", callback=auto_save_callback, progress_bar=True, reset_num_timesteps=False)\n",
    "# model_sac.save(f\"{config['savedir']}/{config['policy']}_SAC_pt2\")"
   ]
  },
  {
   "cell_type": "markdown",
   "metadata": {
    "id": "QNtnuSaSAM8B"
   },
   "source": [
    "### Load Model?"
   ]
  },
  {
   "cell_type": "code",
   "execution_count": 11,
   "metadata": {
    "id": "Yrtqc8GcAOT_"
   },
   "outputs": [],
   "source": [
    "# Load the best model\n",
    "best_ppo = PPO.load(f\"{config['savedir']}/best_ppo\")\n",
    "best_dqn = DQN.load(f\"{config['savedir']}/best_dqn\")"
   ]
  },
  {
   "cell_type": "markdown",
   "metadata": {
    "id": "QBOWRrb_wmyx"
   },
   "source": [
    "### Check Performance\n",
    "\n",
    "Check if the policy can consistently succeed in the environment over multilpe episodes."
   ]
  },
  {
   "cell_type": "code",
   "execution_count": 12,
   "metadata": {
    "id": "yBLWeFCdmGEE"
   },
   "outputs": [
    {
     "name": "stdout",
     "output_type": "stream",
     "text": [
      "Environment seed: 131\n"
     ]
    },
    {
     "ename": "NameError",
     "evalue": "name 'model_sac' is not defined",
     "output_type": "error",
     "traceback": [
      "\u001b[0;31m---------------------------------------------------------------------------\u001b[0m",
      "\u001b[0;31mNameError\u001b[0m                                 Traceback (most recent call last)",
      "Cell \u001b[0;32mIn[12], line 18\u001b[0m\n\u001b[1;32m      4\u001b[0m eval_env \u001b[38;5;241m=\u001b[39m make_vec_env(SimpleSimGym, \n\u001b[1;32m      5\u001b[0m                    n_envs\u001b[38;5;241m=\u001b[39m\u001b[38;5;241m1\u001b[39m, \n\u001b[1;32m      6\u001b[0m                    \u001b[38;5;66;03m# monitor_dir=config[\"logdir\"], \u001b[39;00m\n\u001b[0;32m   (...)\u001b[0m\n\u001b[1;32m     14\u001b[0m                    )\n\u001b[1;32m     15\u001b[0m                   )\n\u001b[1;32m     17\u001b[0m \u001b[38;5;66;03m# Check performance of best vs last model\u001b[39;00m\n\u001b[0;32m---> 18\u001b[0m models \u001b[38;5;241m=\u001b[39m {\u001b[38;5;124m\"\u001b[39m\u001b[38;5;124mlast_sac\u001b[39m\u001b[38;5;124m\"\u001b[39m: \u001b[43mmodel_sac\u001b[49m, \u001b[38;5;124m\"\u001b[39m\u001b[38;5;124mbest_sac\u001b[39m\u001b[38;5;124m\"\u001b[39m: best_sac}\u001b[38;5;66;03m#, \"last_ppo\": model_ppo, \"best_ppo\": best_ppo}\u001b[39;00m\n\u001b[1;32m     19\u001b[0m \u001b[38;5;66;03m# models = {\"best_sac\": best_sac, \"best_ppo\": best_ppo}\u001b[39;00m\n\u001b[1;32m     21\u001b[0m \u001b[38;5;28;01mfor\u001b[39;00m key \u001b[38;5;129;01min\u001b[39;00m models\u001b[38;5;241m.\u001b[39mkeys():\n\u001b[1;32m     22\u001b[0m     \u001b[38;5;66;03m# Reset the eval env\u001b[39;00m\n",
      "\u001b[0;31mNameError\u001b[0m: name 'model_sac' is not defined"
     ]
    }
   ],
   "source": [
    "from stable_baselines3.common.evaluation import evaluate_policy\n",
    "\n",
    "# Instantiate the eval env\n",
    "eval_env = make_vec_env(SimpleSimGym, \n",
    "                   n_envs=1, \n",
    "                   # monitor_dir=config[\"logdir\"], \n",
    "                   env_kwargs=dict(\n",
    "                       max_budget=MAX_BUDGET, \n",
    "                       max_targets=MAX_TARGETS, \n",
    "                       num_classes=NUM_CLASSES, \n",
    "                       player_fov=PLAYER_FOV, \n",
    "                       render_mode=RENDER_MODE, \n",
    "                       action_format=ACTION_FORMAT\n",
    "                   )\n",
    "                  )\n",
    "\n",
    "# Check performance of best vs last model\n",
    "models = {\"last_sac\": model_sac, \"best_sac\": best_sac}#, \"last_ppo\": model_ppo, \"best_ppo\": best_ppo}\n",
    "# models = {\"best_sac\": best_sac, \"best_ppo\": best_ppo}\n",
    "\n",
    "for key in models.keys():\n",
    "    # Reset the eval env\n",
    "    eval_env.reset()\n",
    "    # Test average reward over multiple episodes\n",
    "    mean_reward, std_reward = evaluate_policy(models[key], eval_env, n_eval_episodes=50)\n",
    "    print(f\"MODEL TYPE: {key}\")\n",
    "    print(f\"mean_reward:{mean_reward:.2f} +/- {std_reward:.2f}\\n\")"
   ]
  },
  {
   "cell_type": "markdown",
   "metadata": {
    "id": "hx_YDEcGvjxR"
   },
   "source": [
    "### Visualize Trained Agent with Video\n"
   ]
  },
  {
   "cell_type": "code",
   "execution_count": null,
   "metadata": {
    "id": "rY9ncXp8vjxR"
   },
   "outputs": [],
   "source": [
    "from utils import record_video, show_videos\n",
    "\n",
    "record_video(eval_env, model_sac, video_length=500*3, prefix=\"jupyter-sac-last-simplesim\")\n",
    "show_videos(\"videos\", prefix=\"jupyter-sac-last\")\n",
    "\n",
    "record_video(eval_env, best_sac, video_length=500*3, prefix=\"jupyter-sac-best-simplesim\")\n",
    "show_videos(\"videos\", prefix=\"jupyter-sac-best\")"
   ]
  },
  {
   "cell_type": "code",
   "execution_count": null,
   "metadata": {},
   "outputs": [],
   "source": [
    "# record_video(eval_env, model_ppo, video_length=500*3, prefix=\"jupyter-ppo-last-simplesim\")\n",
    "# show_videos(\"videos\", prefix=\"jupyter-ppo-last\")\n",
    "\n",
    "# record_video(eval_env, best_ppo, video_length=500*3, prefix=\"jupyter-ppo-best-simplesim\")\n",
    "# show_videos(\"videos\", prefix=\"jupyter-ppo-best\")"
   ]
  }
 ],
 "metadata": {
  "accelerator": "GPU",
  "colab": {
   "provenance": []
  },
  "kernelspec": {
   "display_name": "Python 3 (ipykernel)",
   "language": "python",
   "name": "python3"
  },
  "language_info": {
   "codemirror_mode": {
    "name": "ipython",
    "version": 3
   },
   "file_extension": ".py",
   "mimetype": "text/x-python",
   "name": "python",
   "nbconvert_exporter": "python",
   "pygments_lexer": "ipython3",
   "version": "3.10.13"
  },
  "vscode": {
   "interpreter": {
    "hash": "3201c96db5836b171d01fee72ea1be894646622d4b41771abf25c98b548a611d"
   }
  },
  "widgets": {
   "application/vnd.jupyter.widget-state+json": {
    "2bdf01d2ef434f29a948a4940625f6b0": {
     "model_module": "@jupyter-widgets/output",
     "model_module_version": "1.0.0",
     "model_name": "OutputModel",
     "state": {
      "_dom_classes": [],
      "_model_module": "@jupyter-widgets/output",
      "_model_module_version": "1.0.0",
      "_model_name": "OutputModel",
      "_view_count": null,
      "_view_module": "@jupyter-widgets/output",
      "_view_module_version": "1.0.0",
      "_view_name": "OutputView",
      "layout": "IPY_MODEL_3bc1dfa18bf14d2a97852ff75ecad0f9",
      "msg_id": "",
      "outputs": [
       {
        "data": {
         "text/html": "<pre style=\"white-space:pre;overflow-x:auto;line-height:normal;font-family:Menlo,'DejaVu Sans Mono',consolas,'Courier New',monospace\"><span style=\"color: #800080; text-decoration-color: #800080\"> 100%</span> <span style=\"color: #f92672; text-decoration-color: #f92672\">━━━━━━━━━━━━━━━━━━━━━━━━━━━━━━━━━━━━━━━━━━━━━━━━━━━━━━━━━━╸</span> <span style=\"color: #008000; text-decoration-color: #008000\">199,935/200,000 </span> [ <span style=\"color: #808000; text-decoration-color: #808000\">0:03:55</span> &lt; <span style=\"color: #008080; text-decoration-color: #008080\">0:00:01</span> , <span style=\"color: #800000; text-decoration-color: #800000\">675 it/s</span> ]\n</pre>\n",
         "text/plain": "\u001b[35m 100%\u001b[0m \u001b[38;2;249;38;114m━━━━━━━━━━━━━━━━━━━━━━━━━━━━━━━━━━━━━━━━━━━━━━━━━━━━━━━━━━\u001b[0m\u001b[38;2;249;38;114m╸\u001b[0m \u001b[32m199,935/200,000 \u001b[0m [ \u001b[33m0:03:55\u001b[0m < \u001b[36m0:00:01\u001b[0m , \u001b[31m675 it/s\u001b[0m ]\n"
        },
        "metadata": {},
        "output_type": "display_data"
       }
      ]
     }
    },
    "3bc1dfa18bf14d2a97852ff75ecad0f9": {
     "model_module": "@jupyter-widgets/base",
     "model_module_version": "1.2.0",
     "model_name": "LayoutModel",
     "state": {
      "_model_module": "@jupyter-widgets/base",
      "_model_module_version": "1.2.0",
      "_model_name": "LayoutModel",
      "_view_count": null,
      "_view_module": "@jupyter-widgets/base",
      "_view_module_version": "1.2.0",
      "_view_name": "LayoutView",
      "align_content": null,
      "align_items": null,
      "align_self": null,
      "border": null,
      "bottom": null,
      "display": null,
      "flex": null,
      "flex_flow": null,
      "grid_area": null,
      "grid_auto_columns": null,
      "grid_auto_flow": null,
      "grid_auto_rows": null,
      "grid_column": null,
      "grid_gap": null,
      "grid_row": null,
      "grid_template_areas": null,
      "grid_template_columns": null,
      "grid_template_rows": null,
      "height": null,
      "justify_content": null,
      "justify_items": null,
      "left": null,
      "margin": null,
      "max_height": null,
      "max_width": null,
      "min_height": null,
      "min_width": null,
      "object_fit": null,
      "object_position": null,
      "order": null,
      "overflow": null,
      "overflow_x": null,
      "overflow_y": null,
      "padding": null,
      "right": null,
      "top": null,
      "visibility": null,
      "width": null
     }
    },
    "af9946047ab64b4d9d91550f4f271c32": {
     "model_module": "@jupyter-widgets/base",
     "model_module_version": "1.2.0",
     "model_name": "LayoutModel",
     "state": {
      "_model_module": "@jupyter-widgets/base",
      "_model_module_version": "1.2.0",
      "_model_name": "LayoutModel",
      "_view_count": null,
      "_view_module": "@jupyter-widgets/base",
      "_view_module_version": "1.2.0",
      "_view_name": "LayoutView",
      "align_content": null,
      "align_items": null,
      "align_self": null,
      "border": null,
      "bottom": null,
      "display": null,
      "flex": null,
      "flex_flow": null,
      "grid_area": null,
      "grid_auto_columns": null,
      "grid_auto_flow": null,
      "grid_auto_rows": null,
      "grid_column": null,
      "grid_gap": null,
      "grid_row": null,
      "grid_template_areas": null,
      "grid_template_columns": null,
      "grid_template_rows": null,
      "height": null,
      "justify_content": null,
      "justify_items": null,
      "left": null,
      "margin": null,
      "max_height": null,
      "max_width": null,
      "min_height": null,
      "min_width": null,
      "object_fit": null,
      "object_position": null,
      "order": null,
      "overflow": null,
      "overflow_x": null,
      "overflow_y": null,
      "padding": null,
      "right": null,
      "top": null,
      "visibility": null,
      "width": null
     }
    },
    "e14c6d372ee347f7be51d1027de08037": {
     "model_module": "@jupyter-widgets/output",
     "model_module_version": "1.0.0",
     "model_name": "OutputModel",
     "state": {
      "_dom_classes": [],
      "_model_module": "@jupyter-widgets/output",
      "_model_module_version": "1.0.0",
      "_model_name": "OutputModel",
      "_view_count": null,
      "_view_module": "@jupyter-widgets/output",
      "_view_module_version": "1.0.0",
      "_view_name": "OutputView",
      "layout": "IPY_MODEL_af9946047ab64b4d9d91550f4f271c32",
      "msg_id": "",
      "outputs": [
       {
        "data": {
         "text/html": "<pre style=\"white-space:pre;overflow-x:auto;line-height:normal;font-family:Menlo,'DejaVu Sans Mono',consolas,'Courier New',monospace\"><span style=\"color: #800080; text-decoration-color: #800080\">   5%</span> <span style=\"color: #f92672; text-decoration-color: #f92672\">━━━</span><span style=\"color: #3a3a3a; text-decoration-color: #3a3a3a\">╺━━━━━━━━━━━━━━━━━━━━━━━━━━━━━━━━━━━━━━━━━━━━━━━━━━━━━━━━</span> <span style=\"color: #008000; text-decoration-color: #008000\">10,217/200,000 </span> [ <span style=\"color: #808000; text-decoration-color: #808000\">0:00:25</span> &lt; <span style=\"color: #008080; text-decoration-color: #008080\">0:07:24</span> , <span style=\"color: #800000; text-decoration-color: #800000\">428 it/s</span> ]\n</pre>\n",
         "text/plain": "\u001b[35m   5%\u001b[0m \u001b[38;2;249;38;114m━━━\u001b[0m\u001b[38;5;237m╺\u001b[0m\u001b[38;5;237m━━━━━━━━━━━━━━━━━━━━━━━━━━━━━━━━━━━━━━━━━━━━━━━━━━━━━━━━\u001b[0m \u001b[32m10,217/200,000 \u001b[0m [ \u001b[33m0:00:25\u001b[0m < \u001b[36m0:07:24\u001b[0m , \u001b[31m428 it/s\u001b[0m ]\n"
        },
        "metadata": {},
        "output_type": "display_data"
       }
      ]
     }
    }
   }
  }
 },
 "nbformat": 4,
 "nbformat_minor": 4
}
